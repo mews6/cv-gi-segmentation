{
 "cells": [
  {
   "cell_type": "markdown",
   "id": "b23e9c4b",
   "metadata": {},
   "source": [
    "# Generating Gastrointestinal Vision Models with Keras"
   ]
  },
  {
   "cell_type": "code",
   "execution_count": null,
   "id": "e2bad336",
   "metadata": {},
   "outputs": [],
   "source": [
    "import os\n",
    "import numpy as np\n",
    "import keras\n",
    "from keras import layers\n",
    "from tensorflow import data as tf_data\n",
    "import matplotlib.pyplot as plt"
   ]
  },
  {
   "cell_type": "markdown",
   "id": "f7e98c94",
   "metadata": {},
   "source": [
    "## Image Filter"
   ]
  },
  {
   "cell_type": "code",
   "execution_count": null,
   "id": "b7a2d41e",
   "metadata": {},
   "outputs": [],
   "source": [
    "num_skipped = 0\n",
    "for folder_name in(\"Lesion\", \"Normal\"):\n",
    "    folder_path = os.path.join(\"data/GastrointestinalBleeding\", folder_name)\n",
    "    for fname in os.listdir(folder_path):\n",
    "        fpath = os.path.join(folder_path, fname)\n",
    "        try:\n",
    "            fobj = open(fpath, \"rb\")\n",
    "            is_jfif = b\"JFIF\" in fobj.peek(10)\n",
    "        finally:\n",
    "            fobj.close()\n",
    "\n",
    "        if not is_jfif:\n",
    "            num_skipped += 1\n",
    "            # Delete corrupted image\n",
    "            os.remove(fpath)\n",
    "\n",
    "print(f\"Deleted {num_skipped} images.\")"
   ]
  },
  {
   "cell_type": "code",
   "execution_count": null,
   "id": "75356c5e",
   "metadata": {},
   "outputs": [],
   "source": []
  }
 ],
 "metadata": {
  "kernelspec": {
   "display_name": "Python 3",
   "language": "python",
   "name": "python3"
  },
  "language_info": {
   "name": "python",
   "version": "3.11.11"
  }
 },
 "nbformat": 4,
 "nbformat_minor": 5
}
